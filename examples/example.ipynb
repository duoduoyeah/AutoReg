{
  "cells": [
    {
      "cell_type": "markdown",
      "metadata": {
        "id": "xhzP6j1mIgxh"
      },
      "source": [
        "# This is an example of how to use the AutoReg module."
      ]
    },
    {
      "cell_type": "markdown",
      "metadata": {
        "id": "STd6srq-ImZy"
      },
      "source": [
        "## 1. Install the required packages"
      ]
    },
    {
      "cell_type": "code",
      "execution_count": 1,
      "metadata": {
        "colab": {
          "base_uri": "https://localhost:8080/"
        },
        "id": "jIymZKvrHhZz",
        "outputId": "1145d664-59d0-445b-a28c-a20960cdcd4b"
      },
      "outputs": [
        {
          "name": "stdout",
          "output_type": "stream",
          "text": [
            "Collecting git+https://github.com/duoduoyeah/AutoReg.git\n",
            "  Cloning https://github.com/duoduoyeah/AutoReg.git to /tmp/pip-req-build-oj57fj0e\n",
            "  Running command git clone --filter=blob:none --quiet https://github.com/duoduoyeah/AutoReg.git /tmp/pip-req-build-oj57fj0e\n",
            "  Resolved https://github.com/duoduoyeah/AutoReg.git to commit 4672a3c41cc67133f82869b4c3a15461edc287ba\n",
            "  Preparing metadata (setup.py) ... \u001b[?25l\u001b[?25hdone\n",
            "Collecting litellm (from auto_reg==0.1.0)\n",
            "  Downloading litellm-1.59.2-py3-none-any.whl.metadata (36 kB)\n",
            "Collecting linearmodels (from auto_reg==0.1.0)\n",
            "  Downloading linearmodels-6.1-cp311-cp311-manylinux_2_17_x86_64.manylinux2014_x86_64.whl.metadata (7.9 kB)\n",
            "Requirement already satisfied: pandas in /usr/local/lib/python3.11/dist-packages (from auto_reg==0.1.0) (2.2.2)\n",
            "Requirement already satisfied: langchain in /usr/local/lib/python3.11/dist-packages (from auto_reg==0.1.0) (0.3.14)\n",
            "Collecting langchain-openai (from auto_reg==0.1.0)\n",
            "  Downloading langchain_openai-0.3.1-py3-none-any.whl.metadata (2.7 kB)\n",
            "Requirement already satisfied: langsmith in /usr/local/lib/python3.11/dist-packages (from auto_reg==0.1.0) (0.2.10)\n",
            "Requirement already satisfied: openai in /usr/local/lib/python3.11/dist-packages (from auto_reg==0.1.0) (1.59.6)\n",
            "Requirement already satisfied: PyYAML>=5.3 in /usr/local/lib/python3.11/dist-packages (from langchain->auto_reg==0.1.0) (6.0.2)\n",
            "Requirement already satisfied: SQLAlchemy<3,>=1.4 in /usr/local/lib/python3.11/dist-packages (from langchain->auto_reg==0.1.0) (2.0.37)\n",
            "Requirement already satisfied: aiohttp<4.0.0,>=3.8.3 in /usr/local/lib/python3.11/dist-packages (from langchain->auto_reg==0.1.0) (3.11.11)\n",
            "Requirement already satisfied: langchain-core<0.4.0,>=0.3.29 in /usr/local/lib/python3.11/dist-packages (from langchain->auto_reg==0.1.0) (0.3.29)\n",
            "Requirement already satisfied: langchain-text-splitters<0.4.0,>=0.3.3 in /usr/local/lib/python3.11/dist-packages (from langchain->auto_reg==0.1.0) (0.3.5)\n",
            "Requirement already satisfied: numpy<2,>=1.22.4 in /usr/local/lib/python3.11/dist-packages (from langchain->auto_reg==0.1.0) (1.26.4)\n",
            "Requirement already satisfied: pydantic<3.0.0,>=2.7.4 in /usr/local/lib/python3.11/dist-packages (from langchain->auto_reg==0.1.0) (2.10.5)\n",
            "Requirement already satisfied: requests<3,>=2 in /usr/local/lib/python3.11/dist-packages (from langchain->auto_reg==0.1.0) (2.32.3)\n",
            "Requirement already satisfied: tenacity!=8.4.0,<10,>=8.1.0 in /usr/local/lib/python3.11/dist-packages (from langchain->auto_reg==0.1.0) (9.0.0)\n",
            "Requirement already satisfied: httpx<1,>=0.23.0 in /usr/local/lib/python3.11/dist-packages (from langsmith->auto_reg==0.1.0) (0.28.1)\n",
            "Requirement already satisfied: orjson<4.0.0,>=3.9.14 in /usr/local/lib/python3.11/dist-packages (from langsmith->auto_reg==0.1.0) (3.10.14)\n",
            "Requirement already satisfied: requests-toolbelt<2.0.0,>=1.0.0 in /usr/local/lib/python3.11/dist-packages (from langsmith->auto_reg==0.1.0) (1.0.0)\n",
            "Collecting langchain-core<0.4.0,>=0.3.29 (from langchain->auto_reg==0.1.0)\n",
            "  Downloading langchain_core-0.3.31-py3-none-any.whl.metadata (6.3 kB)\n",
            "Collecting tiktoken<1,>=0.7 (from langchain-openai->auto_reg==0.1.0)\n",
            "  Downloading tiktoken-0.8.0-cp311-cp311-manylinux_2_17_x86_64.manylinux2014_x86_64.whl.metadata (6.6 kB)\n",
            "Requirement already satisfied: anyio<5,>=3.5.0 in /usr/local/lib/python3.11/dist-packages (from openai->auto_reg==0.1.0) (3.7.1)\n",
            "Requirement already satisfied: distro<2,>=1.7.0 in /usr/local/lib/python3.11/dist-packages (from openai->auto_reg==0.1.0) (1.9.0)\n",
            "Requirement already satisfied: jiter<1,>=0.4.0 in /usr/local/lib/python3.11/dist-packages (from openai->auto_reg==0.1.0) (0.8.2)\n",
            "Requirement already satisfied: sniffio in /usr/local/lib/python3.11/dist-packages (from openai->auto_reg==0.1.0) (1.3.1)\n",
            "Requirement already satisfied: tqdm>4 in /usr/local/lib/python3.11/dist-packages (from openai->auto_reg==0.1.0) (4.67.1)\n",
            "Requirement already satisfied: typing-extensions<5,>=4.11 in /usr/local/lib/python3.11/dist-packages (from openai->auto_reg==0.1.0) (4.12.2)\n",
            "Requirement already satisfied: scipy>=1.8.0 in /usr/local/lib/python3.11/dist-packages (from linearmodels->auto_reg==0.1.0) (1.13.1)\n",
            "Requirement already satisfied: statsmodels>=0.13.0 in /usr/local/lib/python3.11/dist-packages (from linearmodels->auto_reg==0.1.0) (0.14.4)\n",
            "Collecting mypy-extensions>=0.4 (from linearmodels->auto_reg==0.1.0)\n",
            "  Downloading mypy_extensions-1.0.0-py3-none-any.whl.metadata (1.1 kB)\n",
            "Requirement already satisfied: Cython>=3.0.10 in /usr/local/lib/python3.11/dist-packages (from linearmodels->auto_reg==0.1.0) (3.0.11)\n",
            "Collecting pyhdfe>=0.1 (from linearmodels->auto_reg==0.1.0)\n",
            "  Downloading pyhdfe-0.2.0-py3-none-any.whl.metadata (4.0 kB)\n",
            "Collecting formulaic>=1.0.0 (from linearmodels->auto_reg==0.1.0)\n",
            "  Downloading formulaic-1.1.1-py3-none-any.whl.metadata (6.9 kB)\n",
            "Collecting setuptools-scm<9.0.0,>=8.0.0 (from setuptools-scm[toml]<9.0.0,>=8.0.0->linearmodels->auto_reg==0.1.0)\n",
            "  Downloading setuptools_scm-8.1.0-py3-none-any.whl.metadata (6.6 kB)\n",
            "Requirement already satisfied: python-dateutil>=2.8.2 in /usr/local/lib/python3.11/dist-packages (from pandas->auto_reg==0.1.0) (2.8.2)\n",
            "Requirement already satisfied: pytz>=2020.1 in /usr/local/lib/python3.11/dist-packages (from pandas->auto_reg==0.1.0) (2024.2)\n",
            "Requirement already satisfied: tzdata>=2022.7 in /usr/local/lib/python3.11/dist-packages (from pandas->auto_reg==0.1.0) (2024.2)\n",
            "Requirement already satisfied: click in /usr/local/lib/python3.11/dist-packages (from litellm->auto_reg==0.1.0) (8.1.8)\n",
            "Collecting httpx<1,>=0.23.0 (from langsmith->auto_reg==0.1.0)\n",
            "  Downloading httpx-0.27.2-py3-none-any.whl.metadata (7.1 kB)\n",
            "Requirement already satisfied: importlib-metadata>=6.8.0 in /usr/local/lib/python3.11/dist-packages (from litellm->auto_reg==0.1.0) (8.5.0)\n",
            "Requirement already satisfied: jinja2<4.0.0,>=3.1.2 in /usr/local/lib/python3.11/dist-packages (from litellm->auto_reg==0.1.0) (3.1.5)\n",
            "Requirement already satisfied: jsonschema<5.0.0,>=4.22.0 in /usr/local/lib/python3.11/dist-packages (from litellm->auto_reg==0.1.0) (4.23.0)\n",
            "Collecting python-dotenv>=0.2.0 (from litellm->auto_reg==0.1.0)\n",
            "  Downloading python_dotenv-1.0.1-py3-none-any.whl.metadata (23 kB)\n",
            "Requirement already satisfied: tokenizers in /usr/local/lib/python3.11/dist-packages (from litellm->auto_reg==0.1.0) (0.21.0)\n",
            "Requirement already satisfied: aiohappyeyeballs>=2.3.0 in /usr/local/lib/python3.11/dist-packages (from aiohttp<4.0.0,>=3.8.3->langchain->auto_reg==0.1.0) (2.4.4)\n",
            "Requirement already satisfied: aiosignal>=1.1.2 in /usr/local/lib/python3.11/dist-packages (from aiohttp<4.0.0,>=3.8.3->langchain->auto_reg==0.1.0) (1.3.2)\n",
            "Requirement already satisfied: attrs>=17.3.0 in /usr/local/lib/python3.11/dist-packages (from aiohttp<4.0.0,>=3.8.3->langchain->auto_reg==0.1.0) (24.3.0)\n",
            "Requirement already satisfied: frozenlist>=1.1.1 in /usr/local/lib/python3.11/dist-packages (from aiohttp<4.0.0,>=3.8.3->langchain->auto_reg==0.1.0) (1.5.0)\n",
            "Requirement already satisfied: multidict<7.0,>=4.5 in /usr/local/lib/python3.11/dist-packages (from aiohttp<4.0.0,>=3.8.3->langchain->auto_reg==0.1.0) (6.1.0)\n",
            "Requirement already satisfied: propcache>=0.2.0 in /usr/local/lib/python3.11/dist-packages (from aiohttp<4.0.0,>=3.8.3->langchain->auto_reg==0.1.0) (0.2.1)\n",
            "Requirement already satisfied: yarl<2.0,>=1.17.0 in /usr/local/lib/python3.11/dist-packages (from aiohttp<4.0.0,>=3.8.3->langchain->auto_reg==0.1.0) (1.18.3)\n",
            "Requirement already satisfied: idna>=2.8 in /usr/local/lib/python3.11/dist-packages (from anyio<5,>=3.5.0->openai->auto_reg==0.1.0) (3.10)\n",
            "Collecting interface-meta>=1.2.0 (from formulaic>=1.0.0->linearmodels->auto_reg==0.1.0)\n",
            "  Downloading interface_meta-1.3.0-py3-none-any.whl.metadata (6.7 kB)\n",
            "Requirement already satisfied: wrapt>=1.0 in /usr/local/lib/python3.11/dist-packages (from formulaic>=1.0.0->linearmodels->auto_reg==0.1.0) (1.17.0)\n",
            "Requirement already satisfied: certifi in /usr/local/lib/python3.11/dist-packages (from httpx<1,>=0.23.0->langsmith->auto_reg==0.1.0) (2024.12.14)\n",
            "Requirement already satisfied: httpcore==1.* in /usr/local/lib/python3.11/dist-packages (from httpx<1,>=0.23.0->langsmith->auto_reg==0.1.0) (1.0.7)\n",
            "Requirement already satisfied: h11<0.15,>=0.13 in /usr/local/lib/python3.11/dist-packages (from httpcore==1.*->httpx<1,>=0.23.0->langsmith->auto_reg==0.1.0) (0.14.0)\n",
            "Requirement already satisfied: zipp>=3.20 in /usr/local/lib/python3.11/dist-packages (from importlib-metadata>=6.8.0->litellm->auto_reg==0.1.0) (3.21.0)\n",
            "Requirement already satisfied: MarkupSafe>=2.0 in /usr/local/lib/python3.11/dist-packages (from jinja2<4.0.0,>=3.1.2->litellm->auto_reg==0.1.0) (3.0.2)\n",
            "Requirement already satisfied: jsonschema-specifications>=2023.03.6 in /usr/local/lib/python3.11/dist-packages (from jsonschema<5.0.0,>=4.22.0->litellm->auto_reg==0.1.0) (2024.10.1)\n",
            "Requirement already satisfied: referencing>=0.28.4 in /usr/local/lib/python3.11/dist-packages (from jsonschema<5.0.0,>=4.22.0->litellm->auto_reg==0.1.0) (0.35.1)\n",
            "Requirement already satisfied: rpds-py>=0.7.1 in /usr/local/lib/python3.11/dist-packages (from jsonschema<5.0.0,>=4.22.0->litellm->auto_reg==0.1.0) (0.22.3)\n",
            "Requirement already satisfied: jsonpatch<2.0,>=1.33 in /usr/local/lib/python3.11/dist-packages (from langchain-core<0.4.0,>=0.3.29->langchain->auto_reg==0.1.0) (1.33)\n",
            "Requirement already satisfied: packaging<25,>=23.2 in /usr/local/lib/python3.11/dist-packages (from langchain-core<0.4.0,>=0.3.29->langchain->auto_reg==0.1.0) (24.2)\n",
            "Requirement already satisfied: annotated-types>=0.6.0 in /usr/local/lib/python3.11/dist-packages (from pydantic<3.0.0,>=2.7.4->langchain->auto_reg==0.1.0) (0.7.0)\n",
            "Requirement already satisfied: pydantic-core==2.27.2 in /usr/local/lib/python3.11/dist-packages (from pydantic<3.0.0,>=2.7.4->langchain->auto_reg==0.1.0) (2.27.2)\n",
            "Requirement already satisfied: six>=1.5 in /usr/local/lib/python3.11/dist-packages (from python-dateutil>=2.8.2->pandas->auto_reg==0.1.0) (1.17.0)\n",
            "Requirement already satisfied: charset-normalizer<4,>=2 in /usr/local/lib/python3.11/dist-packages (from requests<3,>=2->langchain->auto_reg==0.1.0) (3.4.1)\n",
            "Requirement already satisfied: urllib3<3,>=1.21.1 in /usr/local/lib/python3.11/dist-packages (from requests<3,>=2->langchain->auto_reg==0.1.0) (2.3.0)\n",
            "Requirement already satisfied: setuptools in /usr/local/lib/python3.11/dist-packages (from setuptools-scm<9.0.0,>=8.0.0->setuptools-scm[toml]<9.0.0,>=8.0.0->linearmodels->auto_reg==0.1.0) (75.1.0)\n",
            "Requirement already satisfied: greenlet!=0.4.17 in /usr/local/lib/python3.11/dist-packages (from SQLAlchemy<3,>=1.4->langchain->auto_reg==0.1.0) (3.1.1)\n",
            "Requirement already satisfied: patsy>=0.5.6 in /usr/local/lib/python3.11/dist-packages (from statsmodels>=0.13.0->linearmodels->auto_reg==0.1.0) (1.0.1)\n",
            "Requirement already satisfied: regex>=2022.1.18 in /usr/local/lib/python3.11/dist-packages (from tiktoken<1,>=0.7->langchain-openai->auto_reg==0.1.0) (2024.11.6)\n",
            "Requirement already satisfied: huggingface-hub<1.0,>=0.16.4 in /usr/local/lib/python3.11/dist-packages (from tokenizers->litellm->auto_reg==0.1.0) (0.27.1)\n",
            "Requirement already satisfied: filelock in /usr/local/lib/python3.11/dist-packages (from huggingface-hub<1.0,>=0.16.4->tokenizers->litellm->auto_reg==0.1.0) (3.16.1)\n",
            "Requirement already satisfied: fsspec>=2023.5.0 in /usr/local/lib/python3.11/dist-packages (from huggingface-hub<1.0,>=0.16.4->tokenizers->litellm->auto_reg==0.1.0) (2024.10.0)\n",
            "Requirement already satisfied: jsonpointer>=1.9 in /usr/local/lib/python3.11/dist-packages (from jsonpatch<2.0,>=1.33->langchain-core<0.4.0,>=0.3.29->langchain->auto_reg==0.1.0) (3.0.0)\n",
            "Downloading langchain_openai-0.3.1-py3-none-any.whl (54 kB)\n",
            "\u001b[2K   \u001b[90m━━━━━━━━━━━━━━━━━━━━━━━━━━━━━━━━━━━━━━━━\u001b[0m \u001b[32m54.3/54.3 kB\u001b[0m \u001b[31m2.9 MB/s\u001b[0m eta \u001b[36m0:00:00\u001b[0m\n",
            "\u001b[?25hDownloading linearmodels-6.1-cp311-cp311-manylinux_2_17_x86_64.manylinux2014_x86_64.whl (1.7 MB)\n",
            "\u001b[2K   \u001b[90m━━━━━━━━━━━━━━━━━━━━━━━━━━━━━━━━━━━━━━━━\u001b[0m \u001b[32m1.7/1.7 MB\u001b[0m \u001b[31m25.1 MB/s\u001b[0m eta \u001b[36m0:00:00\u001b[0m\n",
            "\u001b[?25hDownloading litellm-1.59.2-py3-none-any.whl (6.7 MB)\n",
            "\u001b[2K   \u001b[90m━━━━━━━━━━━━━━━━━━━━━━━━━━━━━━━━━━━━━━━━\u001b[0m \u001b[32m6.7/6.7 MB\u001b[0m \u001b[31m68.9 MB/s\u001b[0m eta \u001b[36m0:00:00\u001b[0m\n",
            "\u001b[?25hDownloading formulaic-1.1.1-py3-none-any.whl (115 kB)\n",
            "\u001b[2K   \u001b[90m━━━━━━━━━━━━━━━━━━━━━━━━━━━━━━━━━━━━━━━━\u001b[0m \u001b[32m115.7/115.7 kB\u001b[0m \u001b[31m8.0 MB/s\u001b[0m eta \u001b[36m0:00:00\u001b[0m\n",
            "\u001b[?25hDownloading httpx-0.27.2-py3-none-any.whl (76 kB)\n",
            "\u001b[2K   \u001b[90m━━━━━━━━━━━━━━━━━━━━━━━━━━━━━━━━━━━━━━━━\u001b[0m \u001b[32m76.4/76.4 kB\u001b[0m \u001b[31m5.0 MB/s\u001b[0m eta \u001b[36m0:00:00\u001b[0m\n",
            "\u001b[?25hDownloading langchain_core-0.3.31-py3-none-any.whl (412 kB)\n",
            "\u001b[2K   \u001b[90m━━━━━━━━━━━━━━━━━━━━━━━━━━━━━━━━━━━━━━━━\u001b[0m \u001b[32m412.2/412.2 kB\u001b[0m \u001b[31m21.9 MB/s\u001b[0m eta \u001b[36m0:00:00\u001b[0m\n",
            "\u001b[?25hDownloading mypy_extensions-1.0.0-py3-none-any.whl (4.7 kB)\n",
            "Downloading pyhdfe-0.2.0-py3-none-any.whl (19 kB)\n",
            "Downloading python_dotenv-1.0.1-py3-none-any.whl (19 kB)\n",
            "Downloading setuptools_scm-8.1.0-py3-none-any.whl (43 kB)\n",
            "\u001b[2K   \u001b[90m━━━━━━━━━━━━━━━━━━━━━━━━━━━━━━━━━━━━━━━━\u001b[0m \u001b[32m43.7/43.7 kB\u001b[0m \u001b[31m2.7 MB/s\u001b[0m eta \u001b[36m0:00:00\u001b[0m\n",
            "\u001b[?25hDownloading tiktoken-0.8.0-cp311-cp311-manylinux_2_17_x86_64.manylinux2014_x86_64.whl (1.2 MB)\n",
            "\u001b[2K   \u001b[90m━━━━━━━━━━━━━━━━━━━━━━━━━━━━━━━━━━━━━━━━\u001b[0m \u001b[32m1.2/1.2 MB\u001b[0m \u001b[31m50.0 MB/s\u001b[0m eta \u001b[36m0:00:00\u001b[0m\n",
            "\u001b[?25hDownloading interface_meta-1.3.0-py3-none-any.whl (14 kB)\n",
            "Building wheels for collected packages: auto_reg\n",
            "  Building wheel for auto_reg (setup.py) ... \u001b[?25l\u001b[?25hdone\n",
            "  Created wheel for auto_reg: filename=auto_reg-0.1.0-py3-none-any.whl size=24534 sha256=7a714766c4ac7cab38f2010ac9233b4fd66b43cc474c9425cc8e152d757bc5d2\n",
            "  Stored in directory: /tmp/pip-ephem-wheel-cache-gv743r93/wheels/3a/14/df/4b255c905544b667f278d53cebd39067c029e238d40680c033\n",
            "Successfully built auto_reg\n",
            "Installing collected packages: setuptools-scm, python-dotenv, mypy-extensions, interface-meta, tiktoken, pyhdfe, httpx, formulaic, litellm, linearmodels, langchain-core, langchain-openai, auto_reg\n",
            "  Attempting uninstall: httpx\n",
            "    Found existing installation: httpx 0.28.1\n",
            "    Uninstalling httpx-0.28.1:\n",
            "      Successfully uninstalled httpx-0.28.1\n",
            "  Attempting uninstall: langchain-core\n",
            "    Found existing installation: langchain-core 0.3.29\n",
            "    Uninstalling langchain-core-0.3.29:\n",
            "      Successfully uninstalled langchain-core-0.3.29\n",
            "Successfully installed auto_reg-0.1.0 formulaic-1.1.1 httpx-0.27.2 interface-meta-1.3.0 langchain-core-0.3.31 langchain-openai-0.3.1 linearmodels-6.1 litellm-1.59.2 mypy-extensions-1.0.0 pyhdfe-0.2.0 python-dotenv-1.0.1 setuptools-scm-8.1.0 tiktoken-0.8.0\n"
          ]
        }
      ],
      "source": [
        "!pip install git+https://github.com/duoduoyeah/AutoReg.git"
      ]
    },
    {
      "cell_type": "markdown",
      "metadata": {
        "id": "8seUcMXdIv7k"
      },
      "source": [
        "## 2. Add secret key in the colab environment\n",
        "You need to add your OpenAI API key and base URL to Secrets in the colab environment.\n",
        "After you add the secret key, you can run the following code to check if the key is added successfully.\n",
        "You need to add the following keys:\n",
        "- OPENAI_API_KEY\n",
        "- OPENAI_API_BASE\n",
        "- DEEPSEEK_API_KEY (Optional)\n",
        "- DEEPSEEK_API_BASE (Optional)\n"
      ]
    },
    {
      "cell_type": "code",
      "execution_count": 2,
      "metadata": {
        "colab": {
          "base_uri": "https://localhost:8080/",
          "height": 38
        },
        "id": "jUTRImEOIhfu",
        "outputId": "47ba2763-94c0-48bf-8fee-aad478fcbea8"
      },
      "outputs": [
        {
          "data": {
            "application/vnd.google.colaboratory.intrinsic+json": {
              "type": "string"
            },
            "text/plain": [
              "'sk-Am'"
            ]
          },
          "execution_count": 2,
          "metadata": {},
          "output_type": "execute_result"
        }
      ],
      "source": [
        "from google.colab import userdata\n",
        "userdata.get('OPENAI_API_KEY')[:5]"
      ]
    },
    {
      "cell_type": "markdown",
      "metadata": {
        "id": "gp_RIvn9KsTn"
      },
      "source": [
        "## 3. Setup data\n",
        "For demonstration, we use the research_config.json file and csv file in the example folder in our github repository.\n",
        "\n",
        "When you want to use this tool, upload your own csv file and modify the research_config.json file to follow your own research topic and csv data. You could use the following json and csv file as a template."
      ]
    },
    {
      "cell_type": "code",
      "execution_count": 3,
      "metadata": {
        "colab": {
          "base_uri": "https://localhost:8080/"
        },
        "id": "kf59NzDmK8nn",
        "outputId": "f5a61517-b49f-415d-950f-f227780ef342"
      },
      "outputs": [
        {
          "name": "stdout",
          "output_type": "stream",
          "text": [
            "--2025-01-22 05:42:47--  https://raw.githubusercontent.com/duoduoyeah/AutoReg/main/examples/research_config.json\n",
            "Resolving raw.githubusercontent.com (raw.githubusercontent.com)... 185.199.108.133, 185.199.109.133, 185.199.110.133, ...\n",
            "Connecting to raw.githubusercontent.com (raw.githubusercontent.com)|185.199.108.133|:443... connected.\n",
            "HTTP request sent, awaiting response... 200 OK\n",
            "Length: 2410 (2.4K) [text/plain]\n",
            "Saving to: ‘research_config.json’\n",
            "\n",
            "research_config.jso 100%[===================>]   2.35K  --.-KB/s    in 0s      \n",
            "\n",
            "2025-01-22 05:42:47 (39.6 MB/s) - ‘research_config.json’ saved [2410/2410]\n",
            "\n",
            "--2025-01-22 05:42:47--  https://raw.githubusercontent.com/duoduoyeah/AutoReg/main/test_data/example_data.csv\n",
            "Resolving raw.githubusercontent.com (raw.githubusercontent.com)... 185.199.108.133, 185.199.109.133, 185.199.110.133, ...\n",
            "Connecting to raw.githubusercontent.com (raw.githubusercontent.com)|185.199.108.133|:443... connected.\n",
            "HTTP request sent, awaiting response... 200 OK\n",
            "Length: 166892 (163K) [text/plain]\n",
            "Saving to: ‘example_data.csv’\n",
            "\n",
            "example_data.csv    100%[===================>] 162.98K  1.00MB/s    in 0.2s    \n",
            "\n",
            "2025-01-22 05:42:48 (1.00 MB/s) - ‘example_data.csv’ saved [166892/166892]\n",
            "\n",
            "example_data.csv  research_config.json\n"
          ]
        }
      ],
      "source": [
        "!wget https://raw.githubusercontent.com/duoduoyeah/AutoReg/main/examples/research_config.json\n",
        "!wget https://raw.githubusercontent.com/duoduoyeah/AutoReg/main/test_data/example_data.csv\n",
        "!ls research_config.json example_data.csv"
      ]
    },
    {
      "cell_type": "code",
      "execution_count": 4,
      "metadata": {
        "colab": {
          "base_uri": "https://localhost:8080/"
        },
        "id": "1c7zZ2OYLvgc",
        "outputId": "bd80d48e-32ef-40aa-f798-4bd80ca94c48"
      },
      "outputs": [
        {
          "name": "stdout",
          "output_type": "stream",
          "text": [
            "How extreme weather events affect company stock prices\n"
          ]
        }
      ],
      "source": [
        "import pandas as pd\n",
        "from auto_reg.regression.regression_config import *\n",
        "import json\n",
        "\n",
        "file_path = 'example_data.csv'\n",
        "df = pd.read_csv(file_path)\n",
        "df = df.set_index(['company_id', 'year'])\n",
        "# Remove rows with missing values\n",
        "df = df.dropna()\n",
        "\n",
        "def load_research_config(config_path: str) -> ResearchConfig:\n",
        "    with open(config_path) as f:\n",
        "        config_data = json.load(f)\n",
        "    return ResearchConfig(**config_data)\n",
        "\n",
        "research_config = load_research_config('research_config.json')\n",
        "research_config.validate_research_config(df)\n",
        "research_topic: str = research_config.research_topic\n",
        "print(research_topic)"
      ]
    },
    {
      "cell_type": "markdown",
      "metadata": {
        "id": "m5l1N6zCNxxy"
      },
      "source": [
        "## 4. Create Langchain models\n",
        "When you only use OpenAI model, you could use the following code to create the model.\n",
        "```python\n",
        "from langchain_openai import ChatOpenAI\n",
        "\n",
        "model_4o = ChatOpenAI(\n",
        "    model_name=\"gpt-4o\",\n",
        "    timeout=(45.0), # 45 seconds before timeout\n",
        "    temperature=0,\n",
        "    api_key=userdata.get('OPENAI_API_KEY'),\n",
        "    base_url=userdata.get('OPENAI_API_BASE')\n",
        ")\n",
        "\n",
        "# User need to: map different tasks to specific models\n",
        "model: dict[str, ChatOpenAI] = {\n",
        "    'design_model': model_4o,  # For designing table layouts\n",
        "    'draw_model': model_4o,  # For drawing regression tables\n",
        "    'analysis_model': model_4o,  # For analyzing regression results\n",
        "}\n",
        "```"
      ]
    },
    {
      "cell_type": "code",
      "execution_count": 5,
      "metadata": {
        "id": "RIeSX56tNyGi"
      },
      "outputs": [],
      "source": [
        "from langchain_openai import ChatOpenAI\n",
        "\n",
        "model_4o = ChatOpenAI(\n",
        "    model_name=\"gpt-4o\",\n",
        "    timeout=(45.0), # 45 seconds before timeout\n",
        "    temperature=0,\n",
        "    api_key=userdata.get('OPENAI_API_KEY'),\n",
        "    base_url=userdata.get('OPENAI_API_BASE')\n",
        ")\n",
        "\n",
        "# comment out the following code if you only use OpenAI model\n",
        "model_deepseek = ChatOpenAI(\n",
        "    model_name=\"deepseek-chat\",\n",
        "    temperature=0,\n",
        "    timeout=(45.0),\n",
        "    api_key=userdata.get('DEEPSEEK_API_KEY'),\n",
        "    base_url=userdata.get('DEEPSEEK_API_BASE')\n",
        ")\n",
        "\n",
        "# User need to: map different tasks to specific models\n",
        "model: dict[str, ChatOpenAI] = {\n",
        "    'design_model': model_4o,  # For designing table layouts\n",
        "    'draw_model': model_4o,  # For drawing regression tables\n",
        "    'analysis_model': model_deepseek,  # For analyzing regression results\n",
        "}"
      ]
    },
    {
      "cell_type": "markdown",
      "metadata": {
        "id": "xwYi4BpAOgAx"
      },
      "source": [
        "## 5. Run the regression analysis\n",
        "The variable `regression_results` is a list of RegressionResult objects."
      ]
    },
    {
      "cell_type": "code",
      "execution_count": 6,
      "metadata": {
        "colab": {
          "base_uri": "https://localhost:8080/"
        },
        "id": "PkV2qYlFOgY9",
        "outputId": "b828a585-3146-48b7-ad20-9ea9f1ea3a10"
      },
      "outputs": [
        {
          "name": "stdout",
          "output_type": "stream",
          "text": [
            "Two Basic regressions.with and without controls\n",
            " The first regression result is the one without controls\n",
            " The second regression result is the one with controls\n",
            "panel_regression\n",
            "dependent_vars: ['stock_revenue']\n",
            "dependent_var_description: [\"Company's abnormal stock returns, calculated as the difference between actual and expected returns\"]\n",
            "independent_vars: ['extreme_temperature']\n",
            "independent_var_description: ['Frequency of extreme temperature events per year, standardized across all companies']\n",
            "control_vars: ['company_size', 'company_age', 'company_distance_to_sea', 'rain_amount', 'dry_amount']\n",
            "control_vars_description: ['Size of the company, measured by natural logarithm of total assets', 'Age of the company since establishment in years', 'Distance of company headquarters to nearest coastline in kilometers', \"Annual rainfall amount in millimeters of company's location\", \"Number of dry days per year of company's location\"]\n",
            "constant: True\n",
            "regression_type: basic regression, the dependent variable is: ['stock_revenue']. The independent variable is: ['extreme_temperature']\n",
            "effects: ['entity', 'time']\n",
            "run_another_regression_without_controls: True\n"
          ]
        }
      ],
      "source": [
        "from auto_reg.regression.panel_data import run_regressions\n",
        "\n",
        "regression_results = run_regressions(\n",
        "    df,\n",
        "    research_config.generate_regression_configs()\n",
        ")\n",
        "print(regression_results[0].description)\n",
        "print(regression_results[0].regression_type)\n",
        "print(regression_results[0].regression_config)"
      ]
    },
    {
      "cell_type": "markdown",
      "metadata": {
        "id": "9qhPsvTPRIZT"
      },
      "source": [
        "The regression result data is stored in the `RegressionResult().results` as a list of PanelEffectsResults objects."
      ]
    },
    {
      "cell_type": "code",
      "execution_count": 7,
      "metadata": {
        "colab": {
          "base_uri": "https://localhost:8080/"
        },
        "id": "8v45r_yxPXf1",
        "outputId": "5546c743-9e5b-4b4e-acf5-a947f7f1827e"
      },
      "outputs": [
        {
          "name": "stdout",
          "output_type": "stream",
          "text": [
            "[                          PanelOLS Estimation Summary                           \n",
            "================================================================================\n",
            "Dep. Variable:          stock_revenue   R-squared:                        0.0047\n",
            "Estimator:                   PanelOLS   R-squared (Between):              0.0573\n",
            "No. Observations:                1000   R-squared (Within):               0.0200\n",
            "Date:                Wed, Jan 22 2025   R-squared (Overall):              0.0242\n",
            "Time:                        05:43:08   Log-likelihood                   -1341.3\n",
            "Cov. Estimator:             Clustered                                           \n",
            "                                        F-statistic:                      4.2008\n",
            "Entities:                         100   P-value                           0.0407\n",
            "Avg Obs:                      10.0000   Distribution:                   F(1,890)\n",
            "Min Obs:                      10.0000                                           \n",
            "Max Obs:                      10.0000   F-statistic (robust):             3.4073\n",
            "                                        P-value                           0.0652\n",
            "Time periods:                      10   Distribution:                   F(1,890)\n",
            "Avg Obs:                      100.000                                           \n",
            "Min Obs:                      100.000                                           \n",
            "Max Obs:                      100.000                                           \n",
            "                                                                                \n",
            "                                  Parameter Estimates                                  \n",
            "=======================================================================================\n",
            "                     Parameter  Std. Err.     T-stat    P-value    Lower CI    Upper CI\n",
            "---------------------------------------------------------------------------------------\n",
            "extreme_temperature     0.3346     0.1813     1.8459     0.0652     -0.0212      0.6904\n",
            "constant               -0.0380     0.0206    -1.8459     0.0652     -0.0784      0.0024\n",
            "=======================================================================================\n",
            "\n",
            "F-test for Poolability: 1.1310\n",
            "P-value: 0.1828\n",
            "Distribution: F(108,890)\n",
            "\n",
            "Included effects: Entity, Time\n",
            "PanelEffectsResults, id: 0x78b26a698110,                           PanelOLS Estimation Summary                           \n",
            "================================================================================\n",
            "Dep. Variable:          stock_revenue   R-squared:                        0.0705\n",
            "Estimator:                   PanelOLS   R-squared (Between):              0.1364\n",
            "No. Observations:                1000   R-squared (Within):               0.0836\n",
            "Date:                Wed, Jan 22 2025   R-squared (Overall):              0.0895\n",
            "Time:                        05:43:08   Log-likelihood                   -1307.1\n",
            "Cov. Estimator:             Clustered                                           \n",
            "                                        F-statistic:                      11.194\n",
            "Entities:                         100   P-value                           0.0000\n",
            "Avg Obs:                      10.0000   Distribution:                   F(6,885)\n",
            "Min Obs:                      10.0000                                           \n",
            "Max Obs:                      10.0000   F-statistic (robust):             11.766\n",
            "                                        P-value                           0.0000\n",
            "Time periods:                      10   Distribution:                   F(6,885)\n",
            "Avg Obs:                      100.000                                           \n",
            "Min Obs:                      100.000                                           \n",
            "Max Obs:                      100.000                                           \n",
            "                                                                                \n",
            "                                    Parameter Estimates                                    \n",
            "===========================================================================================\n",
            "                         Parameter  Std. Err.     T-stat    P-value    Lower CI    Upper CI\n",
            "-------------------------------------------------------------------------------------------\n",
            "extreme_temperature         0.3128     0.1713     1.8255     0.0683     -0.0235      0.6490\n",
            "company_size                0.1163     0.0375     3.0972     0.0020      0.0426      0.1900\n",
            "company_age                 0.1444     0.0276     5.2309     0.0000      0.0902      0.1986\n",
            "company_distance_to_sea     0.0848     0.0301     2.8131     0.0050      0.0256      0.1439\n",
            "rain_amount                 0.0905     0.0326     2.7779     0.0056      0.0266      0.1545\n",
            "dry_amount                  0.1154     0.0365     3.1570     0.0016      0.0437      0.1871\n",
            "constant                   -0.0355     0.0195    -1.8255     0.0683     -0.0737      0.0027\n",
            "===========================================================================================\n",
            "\n",
            "F-test for Poolability: 1.1173\n",
            "P-value: 0.2068\n",
            "Distribution: F(108,885)\n",
            "\n",
            "Included effects: Entity, Time\n",
            "PanelEffectsResults, id: 0x78b26a7dc650]\n"
          ]
        }
      ],
      "source": [
        "print(regression_results[0].results)"
      ]
    },
    {
      "cell_type": "markdown",
      "metadata": {
        "id": "9nXQ71hPRZjd"
      },
      "source": [
        "## 6. Generate the regression table design\n",
        "In this section, we first use a language model to design the regression tables.\n",
        "The design process involves generating a layout for the tables based on the research topic\n",
        "and the results of the regression analysis. The design_model helps in structuring the tables in a way that is\n",
        "most informative and visually appealing.\n",
        "\n",
        "In this example, we design 3 tables. You could modify the number of tables in the following code.\n",
        "```python\n",
        "number_of_tables = 6\n",
        "```"
      ]
    },
    {
      "cell_type": "code",
      "execution_count": 8,
      "metadata": {
        "colab": {
          "base_uri": "https://localhost:8080/"
        },
        "id": "0nri1__OU4dL",
        "outputId": "5cd7b140-20f1-4920-c622-a10d5b138866"
      },
      "outputs": [
        {
          "name": "stdout",
          "output_type": "stream",
          "text": [
            "Get valid table design\n",
            "number_of_tables=3 table_index=[[0, 5], [1, 2], [3, 4]] table_regression_nums=[4, 2, 2] table_title=['Basic Regressions with and without controls & 2SLS Endogeneity Test', 'Robustness Tests: Alternative Independent and Dependent Variables', 'Robustness Tests: Alternative Fixed Effects and Extra Controls']\n"
          ]
        }
      ],
      "source": [
        "from auto_reg.analysis.generate_table import *\n",
        "from auto_reg.analysis.design import *\n",
        "\n",
        "# Design regression tables\n",
        "table_design: TableDesign|None = await design_regression_tables(\n",
        "    research_topic,\n",
        "    regression_results,\n",
        "    model['design_model']\n",
        ")\n",
        "\n",
        "# if table_design is None, the design process failed.\n",
        "assert table_design is not None\n",
        "\n",
        "table_design = select_table_design(table_design, number_of_tables=3)\n",
        "print(table_design)\n"
      ]
    },
    {
      "cell_type": "markdown",
      "metadata": {
        "id": "iIGspKF5YDWZ"
      },
      "source": [
        "## 7. Generate the research report\n",
        "After the design process, we draw the tables and analyze the results.\n",
        "You could change the language used in the following code.\n",
        "```python\n",
        "language_used = \"Chinese\"\n",
        "```\n"
      ]
    },
    {
      "cell_type": "code",
      "execution_count": 9,
      "metadata": {
        "id": "At-TCkc6YCij"
      },
      "outputs": [],
      "source": [
        "\n",
        "# draw tables\n",
        "table_results = ResultTables()\n",
        "await draw_tables(\n",
        "    regression_results,\n",
        "    table_design,\n",
        "    model['draw_model'],\n",
        "    table_results\n",
        ")\n",
        "\n",
        "# analyze results\n",
        "await analyze_regression_results(\n",
        "    regression_results,\n",
        "    table_design,\n",
        "    table_results,\n",
        "    model['analysis_model'],\n",
        "    language_used=\"English\"\n",
        ")\n",
        "\n",
        "# combine tables\n",
        "combined_table_results: ResultTables = await combine_tables(\n",
        "    table_results,\n",
        "    table_design,\n",
        "    model['draw_model'])\n"
      ]
    },
    {
      "cell_type": "markdown",
      "metadata": {
        "id": "UUNaLLUpiiip"
      },
      "source": [
        "## 8. Output Latex File\n",
        "In the left folder bar, you will find a temp folder. The temp folder contains the following files:\n",
        "- raw_regression_result.txt: the raw regression result of each regression.\n",
        "- analysis.tex: the analysis of the regression result.\n",
        "\n",
        "If you use Chinese, you may need to learn further how to use latex to output chinese.\n"
      ]
    },
    {
      "cell_type": "code",
      "execution_count": 10,
      "metadata": {
        "id": "RLLtaaQ6ihC8"
      },
      "outputs": [],
      "source": [
        "import os\n",
        "if not os.path.exists('temp'):\n",
        "    os.makedirs('temp')\n",
        "\n",
        "with open('temp/raw_regression_result.txt', 'w') as raw_file:\n",
        "    for regression in regression_results:\n",
        "        raw_file.write(str(regression) + '\\n')\n",
        "\n",
        "with open('temp/analysis.tex', 'w') as analysis_file:\n",
        "\n",
        "    analysis_file.write(\"\\\\documentclass{article}\\n\")\n",
        "    analysis_file.write(\"\\\\usepackage{graphicx} % Required for inserting images\\n\")\n",
        "    analysis_file.write(\"\\\\usepackage{booktabs}\\n\")\n",
        "    analysis_file.write(\"\\\\usepackage{threeparttable}\\n\")\n",
        "    analysis_file.write(\"\\\\title{RegressFast}\\n\")\n",
        "    analysis_file.write(\"\\\\begin{document}\\n\")\n",
        "\n",
        "    for i in range(len(combined_table_results.analysis)):\n",
        "        analysis_file.write(combined_table_results.analysis[i].analysis + '\\n')\n",
        "        analysis_file.write(combined_table_results.tables[i].latex_table + '\\n')\n",
        "\n",
        "    analysis_file.write(\"\\\\end{document}\\n\")"
      ]
    }
  ],
  "metadata": {
    "colab": {
      "provenance": []
    },
    "kernelspec": {
      "display_name": "Python 3",
      "name": "python3"
    },
    "language_info": {
      "name": "python"
    }
  },
  "nbformat": 4,
  "nbformat_minor": 0
}
